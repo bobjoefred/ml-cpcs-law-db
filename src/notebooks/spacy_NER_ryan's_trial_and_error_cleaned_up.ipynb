{
  "nbformat": 4,
  "nbformat_minor": 0,
  "metadata": {
    "colab": {
      "provenance": []
    },
    "kernelspec": {
      "name": "python3",
      "display_name": "Python 3"
    },
    "language_info": {
      "name": "python"
    }
  },
  "cells": [
    {
      "cell_type": "code",
      "execution_count": 1,
      "metadata": {
        "id": "l0XQF4t7M_Hy"
      },
      "outputs": [],
      "source": [
        "import spacy\n",
        "from spacy import displacy\n",
        "\n",
        "NER = spacy.load(\"en_core_web_sm\")"
      ]
    },
    {
      "cell_type": "code",
      "source": [
        "raw_text=\"The Indian Space Research Organisation or is the national space agency of India, headquartered in Bengaluru. It operates under Department of Space which is directly overseen by the Prime Minister of India while Chairman of ISRO acts as executive of DOS as well.\"\n",
        "text1= NER(raw_text)\n",
        "raw_text2=\"The Mars Orbiter Mission (MOM), informally known as Mangalyaan, was launched into Earth orbit on 5 November 2013 by the Indian Space Research Organisation (ISRO) and has entered Mars orbit on 24 September 2014. India thus became the first country to enter Mars orbit on its first attempt. It was completed at a record low cost of $74 million.\"\n",
        "text2= NER(raw_text2)\n",
        "raw_text3=\"\"\"Now comes the Commonwealth, and in light of Mass. R. Crim. P. 14 and case law, \n",
        "including Matter of Grand Jury Investigation, 485 Mass. 641 (2020), hereby notifies the defendant \n",
        "that one of the potential witnesses in this case, Dracut Police Officer Todd Allard , was the \n",
        "subject of an internal affairs investigation stemming from various shortcomings in his response to \n",
        "a request for mutual aid concerning an intoxicated operator of a motor vehicle on February 12, \n",
        "2020. The investigation sustained multiple violations of internal rules and regulations of the Dracut \n",
        "Police Department, specifically neglect of duty, attention to duty, conduct unbecoming an officer \n",
        "and multiple findings of untruthfulness during the course of the internal affairs investigation. \n",
        "The Commonwealth recognizes that it is within this courts discretion to decide whether \n",
        "an officers credibility is a critical issue at trial and whether prior false statements in an \n",
        "unconnected matter may significantly impact the trial, Commonwealthv. Lopes, 478 Mass. 593, \n",
        "606 (2018), but contends that such information is not admissible for impeachment.  The well-\n",
        "established rule in Massachusetts is that [s]pecific acts of prior misconduct of the witness . . . not \n",
        "material to the case in which he testifies cannot be shown by the testimony of impeaching witnesses \n",
        "or other extrinsic evidence to affect [the witnesss] credibility.  Commonwealth v. LaVelle, 414 \n",
        "Mass. 146, 151 (1993) (quotation omitted).  See Commonwealth v. Avalos, 454 Mass. 1, 10-\n",
        "11 (2009) (absent a conviction, evidence of act of untruthfulness inadmissible for impeachment); \n",
        "Mass. G. Evid.  608(b) (specific instances of misconduct showing untruthfulness not admissible \n",
        "to attack or support credibility). COMMONWEALTH OF MASSACHUSETTS \n",
        " \"\"\"\n",
        "text3= NER(raw_text3)\n",
        "raw_text4=\"\"\"Now comes the Commonwealth, and in light of Mass. R. Crim. P. 14 and case \n",
        "law, including Matter of Grand Jury Investigation, 485 Mass. 641 (2020), hereby notifies \n",
        "the defendant that the Middlesex District Attorneys Office has been advised that one of \n",
        "the potential witnesses in this case, former Massachusetts State Trooper Corey Lee , \n",
        "was terminated after a video surfaced depicting former Trooper Lee directing racial slurs \n",
        "at an unidentified civilian while off-duty. The District Attorneys Office is not in \n",
        "possession of any documents related to the incident mentioned above, and will no longer \n",
        "be calling former Trooper Lee as a witness. \n",
        "Respectfully Submitted \n",
        "For the Commonwealth \n",
        "MARIAN T. RYAN  \n",
        "DISTRICT ATTORNEY \"\"\"\n",
        "text4= NER(raw_text4)\n",
        "raw_text5=\"\"\"Now comes the Commonwealth and, in light of Mass. R. Crim. P. 14 and case law , \n",
        "including Matter of Grand Jury Investigation , 485 Mass. 641 (2020),  and an abundance of \n",
        "cauti on, hereby notifies the defendant that the Commonwealth has been advised that effective \n",
        "December 2, 2011, Cambridge Police Sergeant Darcy Lowe, a potential witness in this case, \n",
        "resigned from the Cambridge Police Department.  The Commonwealth has knowledge  of the \n",
        "existence of Cambridge Police Department internal affairs (\"IA\") records in the possession of the \n",
        "Cambridge Police Department regarding Sgt. Lowe, including an instance involving Sgt. Lowe's \n",
        "credibility regarding his off -duty behavior and his depar tment -issued firearm.  \n",
        " \n",
        " \n",
        "Respectfully Submitted      \n",
        "For the Commonwealth , \n",
        "        \n",
        "      MARIAN T. RYAN  \n",
        "      DISTRICT ATTORNEY  \"\"\"\n",
        "text5= NER(raw_text5)\n",
        "raw_text6=\"\"\"Now comes the Commonwealth  pursuant to Mass. R. Crim. P. 14 and case law , \n",
        "including Matter of Grand Jury Investigation , 485 Mass. 641 (2020), and notifies the \n",
        "defendant that an indep endent investigation into overtime discrepancies and other \n",
        "improprieties arising from a protracted police detail occurring between February and \n",
        "April 2018 concluded that  former Medford Police Sergeant David Olsen  violated \n",
        "internal  rules and regulations of the Medford Police Department, including  \n",
        "untruthfulness, neglect or disobedience of orders, insubordination, conduct  unbecoming \n",
        "an officer  and failure to supervise . \n",
        " \n",
        "The Commonwealth has been informed that  Sergeant Olsen  received a letter of \n",
        "reprimand  and that the Department imposed a suspension of six (6) full work days, \n",
        "remov ed him from the detail list for a period of fourteen  (14) days , and required that the \n",
        "Department be reimburse d $230.00.  Sergeant Olsen retired before the suspension  could \n",
        "be served .  The Commonwealth is in possession of documents, including a report \n",
        "summarizing the independent investigators conclusions , relating to this investigation.   \n",
        " \n",
        "The Commonwealth recognizes that i t is within this courts discretion to decide \n",
        "whether the officers credibility is a critical issue at trial and whether prior false \n",
        "statements in an unconnected matter may significantly impact the trial, Commonwealth  v. \n",
        "Lopes , 478 Mass. 593, 606 (2018), b ut contends that this information is not admissible \n",
        "for impeachment.  The well -established rule in Massachusetts is that [s]pecific acts of \n",
        "prior misconduct of the witness  . . . not material to the case in which he testifies cannot \n",
        "be shown by the testimo ny of impeaching witnesses or other extrinsic evidence to affect \n",
        "[the witnesss] credibility.   Commonwealth  v. LaVelle , 414 Mass. 146, 151 (1993) \n",
        "(quotation omitted).   See Commonwealth  v. Avalos , 454 Mass. 1, 10 -11 (2009) (absent a \n",
        "conviction, evidence of  act of untruthfulness inadmissible for impeachment); Mass. G. \n",
        "Evid.   608(b) (specific instances of misconduct showing untruthfulness not admissible \n",
        "to attack or support credibility).  \n",
        " \n",
        "Respectfully Submitted    \n",
        " For the Commonwealth  COMMONWEALTH OF MASSACHUSETTS  \"\"\"\n",
        "text6= NER(raw_text6)"
      ],
      "metadata": {
        "id": "agBe4ph2NPzG"
      },
      "execution_count": 39,
      "outputs": []
    },
    {
      "cell_type": "code",
      "source": [
        "for word in text1.ents:\n",
        "    print(word.text,word.label_)"
      ],
      "metadata": {
        "colab": {
          "base_uri": "https://localhost:8080/"
        },
        "id": "F-y1CEFkNS_Z",
        "outputId": "f1978a11-0c68-4206-e683-ceb5e4a7ad3b"
      },
      "execution_count": 3,
      "outputs": [
        {
          "output_type": "stream",
          "name": "stdout",
          "text": [
            "The Indian Space Research Organisation ORG\n",
            "India GPE\n",
            "Bengaluru GPE\n",
            "under Department of Space ORG\n",
            "India GPE\n"
          ]
        }
      ]
    },
    {
      "cell_type": "code",
      "source": [
        "for word in text3.ents:\n",
        "    print(word.text,word.label_)"
      ],
      "metadata": {
        "colab": {
          "base_uri": "https://localhost:8080/"
        },
        "id": "UUcwRzZJNnI1",
        "outputId": "0810ca52-ef34-44b0-8c21-5171eef4e585"
      },
      "execution_count": 25,
      "outputs": [
        {
          "output_type": "stream",
          "name": "stdout",
          "text": [
            "Commonwealth ORG\n",
            "Mass. R. Crim ORG\n",
            "14 CARDINAL\n",
            "Matter of Grand Jury Investigation WORK_OF_ART\n",
            "485 CARDINAL\n",
            "Mass. GPE\n",
            "2020 DATE\n",
            "Dracut Police ORG\n",
            "Todd Allard PERSON\n",
            "February 12 DATE\n",
            "2020 DATE\n",
            "the Dracut \n",
            "Police Department ORG\n",
            "Commonwealth ORG\n",
            "Commonwealthv ORG\n",
            "Lopes ORG\n",
            "478 CARDINAL\n",
            "Mass. GPE\n",
            "593 CARDINAL\n",
            "606 CARDINAL\n",
            "2018 DATE\n",
            "Massachusetts GPE\n",
            "Commonwealth ORG\n",
            "414 CARDINAL\n",
            "Mass. 146 DATE\n",
            "151 CARDINAL\n",
            "1993 DATE\n",
            "Commonwealth ORG\n",
            "454 CARDINAL\n",
            "Mass. GPE\n",
            "1 CARDINAL\n",
            "11 CARDINAL\n",
            "2009 DATE\n",
            "Mass. G. Evid ORG\n",
            "COMMONWEALTH ORG\n"
          ]
        }
      ]
    },
    {
      "cell_type": "code",
      "source": [
        "for word in text3.ents:\n",
        "    if(word.label_ == \"PERSON\"):\n",
        "      print(word.text,word.label_)"
      ],
      "metadata": {
        "colab": {
          "base_uri": "https://localhost:8080/"
        },
        "id": "4SDs7qnKOjPj",
        "outputId": "d4a65626-0ff9-4602-c8a4-57e9b5e69409"
      },
      "execution_count": 14,
      "outputs": [
        {
          "output_type": "stream",
          "name": "stdout",
          "text": [
            "Todd Allard PERSON\n"
          ]
        }
      ]
    },
    {
      "cell_type": "markdown",
      "source": [
        "We have the name of the officer. We know that the police office that the officer comes from precedes the officer name, so we can use this to extract the police department too"
      ],
      "metadata": {
        "id": "j54ve-zgPpZU"
      }
    },
    {
      "cell_type": "code",
      "source": [
        "for i in range(len(text3.ents)):\n",
        "    if(text3.ents[i].label_ == \"PERSON\"):\n",
        "      print(text3.ents[i].text,text3.ents[i].label_)\n",
        "      x=i-1\n",
        "      print(text3.ents[x].text,text3.ents[x].label_)"
      ],
      "metadata": {
        "colab": {
          "base_uri": "https://localhost:8080/"
        },
        "id": "6VBkwpv1PycZ",
        "outputId": "620ed667-8d95-4866-89f0-3b39d12d6a96"
      },
      "execution_count": 26,
      "outputs": [
        {
          "output_type": "stream",
          "name": "stdout",
          "text": [
            "Todd Allard PERSON\n",
            "Dracut Police ORG\n"
          ]
        }
      ]
    },
    {
      "cell_type": "markdown",
      "source": [
        "You'll notice that using this method we don't properly pull out the full name of the department and that within his title from where we extracted the information, the model doesn't currently extract the full title either. This type of problem is present in another example down below"
      ],
      "metadata": {
        "id": "H1Xz9WgxT-Cq"
      }
    },
    {
      "cell_type": "code",
      "source": [
        "for word in text4.ents:\n",
        "    print(word.text,word.label_)"
      ],
      "metadata": {
        "colab": {
          "base_uri": "https://localhost:8080/"
        },
        "id": "uu2xgVb9S3pM",
        "outputId": "25c32296-31bd-4b38-cb1e-400458eca722"
      },
      "execution_count": 28,
      "outputs": [
        {
          "output_type": "stream",
          "name": "stdout",
          "text": [
            "Commonwealth ORG\n",
            "Mass. R. Crim ORG\n",
            "14 CARDINAL\n",
            "Matter of Grand Jury Investigation WORK_OF_ART\n",
            "485 CARDINAL\n",
            "Mass. GPE\n",
            "2020 DATE\n",
            "the Middlesex District Attorneys Office ORG\n",
            "one CARDINAL\n",
            "Massachusetts GPE\n",
            "Trooper Corey Lee PERSON\n",
            "Trooper Lee PERSON\n",
            "The District Attorneys Office ORG\n",
            "Trooper Lee PERSON\n",
            "Respectfully Submitted PERSON\n",
            "Commonwealth ORG\n"
          ]
        }
      ]
    },
    {
      "cell_type": "code",
      "source": [
        "for i in range(len(text4.ents)):\n",
        "    if(text4.ents[i].label_ == \"PERSON\"):\n",
        "      print(text4.ents[i].text,text4.ents[i].label_)\n",
        "      x=i-1\n",
        "      print(text4.ents[x].text,text4.ents[x].label_)\n",
        "      break"
      ],
      "metadata": {
        "colab": {
          "base_uri": "https://localhost:8080/"
        },
        "id": "LGGA7lIhS539",
        "outputId": "2f4a5cb4-43f5-453b-b2e5-2b792a0d7223"
      },
      "execution_count": 29,
      "outputs": [
        {
          "output_type": "stream",
          "name": "stdout",
          "text": [
            "Trooper Corey Lee PERSON\n",
            "Massachusetts GPE\n"
          ]
        }
      ]
    },
    {
      "cell_type": "markdown",
      "source": [
        "As above, it only recognizes the state of MA even though what we want is to know that he was an MA Trooper. I believe that this type of problem can be fixed just by knowing that in all of the documents the location of this word MA is referring to being an MA trooper. "
      ],
      "metadata": {
        "id": "KZY-8GK3Ualj"
      }
    },
    {
      "cell_type": "code",
      "source": [
        "for word in text5.ents:\n",
        "    print(word.text,word.label_)"
      ],
      "metadata": {
        "colab": {
          "base_uri": "https://localhost:8080/"
        },
        "id": "YJU8gfEHU6XV",
        "outputId": "ba3addc9-c6ac-4cb0-cb10-bb19ce2c91ee"
      },
      "execution_count": 38,
      "outputs": [
        {
          "output_type": "stream",
          "name": "stdout",
          "text": [
            "Commonwealth ORG\n",
            "Mass. R. Crim ORG\n",
            "14 CARDINAL\n",
            "Matter of Grand Jury Investigation WORK_OF_ART\n",
            "485 CARDINAL\n",
            "Mass. GPE\n",
            "2020 DATE\n",
            "Commonwealth ORG\n",
            "December 2, 2011 DATE\n",
            "Cambridge GPE\n",
            "Darcy Lowe PERSON\n",
            "the Cambridge Police Department ORG\n",
            "Commonwealth ORG\n",
            "Cambridge Police Department ORG\n",
            "IA WORK_OF_ART\n",
            "Cambridge Police Department ORG\n",
            "Lowe GPE\n",
            "Commonwealth ORG\n"
          ]
        }
      ]
    },
    {
      "cell_type": "markdown",
      "source": [
        "The above are minor issues and can be fixed relatively quickly so after a quick question to the client those will be rectified.\n",
        "\n",
        "We also need to get things like consequence. spacy doesn't know what these are but we also don't need to train it. Consequences are only a set number of things and given legal documents they only use a set few words. After attempting to train spacy on what these consequences would be, it started to incorrecly pick out parts of the document which weren't consequences at all. For example 'warning' and 'reprimand' are synonyms but in the context of warning it wasn't a consequence at all."
      ],
      "metadata": {
        "id": "Bc2TYMEQVxz1"
      }
    }
  ]
}