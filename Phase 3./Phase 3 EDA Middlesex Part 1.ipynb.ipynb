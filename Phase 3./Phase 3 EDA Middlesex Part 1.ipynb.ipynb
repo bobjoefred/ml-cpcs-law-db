{
  "cells": [
    {
      "cell_type": "markdown",
      "source": [
        "# CPCS EDA Assignment"
      ],
      "metadata": {
        "id": "z0-DBsDnkc9W"
      }
    },
    {
      "cell_type": "markdown",
      "source": [
        "# Extracting data"
      ],
      "metadata": {
        "id": "yyTPBA2Ckig7"
      }
    },
    {
      "cell_type": "code",
      "execution_count": null,
      "metadata": {
        "colab": {
          "base_uri": "https://localhost:8080/"
        },
        "id": "rTj_clg_kRCT",
        "outputId": "97478104-2d89-46ee-9d71-59e742197099"
      },
      "outputs": [
        {
          "name": "stdout",
          "output_type": "stream",
          "text": [
            "Drive already mounted at /content/drive; to attempt to forcibly remount, call drive.mount(\"/content/drive\", force_remount=True).\n"
          ]
        }
      ],
      "source": [
        "from google.colab import drive\n",
        "drive.mount('/content/drive')"
      ]
    },
    {
      "cell_type": "code",
      "execution_count": null,
      "metadata": {
        "id": "g7NW5MtzkkIl"
      },
      "outputs": [],
      "source": [
        "import pandas as pd\n",
        "\n",
        "brady_middlesex = '/content/drive/MyDrive/CS549 NLP OCR project/brady/Middlesex/BRADY DISCLOSURES.pdf'"
      ]
    },
    {
      "cell_type": "code",
      "execution_count": null,
      "metadata": {
        "colab": {
          "base_uri": "https://localhost:8080/"
        },
        "id": "0cFofXrfsDm1",
        "outputId": "f8d4b89a-2663-45f9-a6af-51d81e20f467"
      },
      "outputs": [
        {
          "data": {
            "text/plain": [
              "str"
            ]
          },
          "execution_count": 3,
          "metadata": {},
          "output_type": "execute_result"
        }
      ],
      "source": [
        "type(brady_middlesex)"
      ]
    },
    {
      "cell_type": "code",
      "execution_count": null,
      "metadata": {
        "colab": {
          "base_uri": "https://localhost:8080/"
        },
        "id": "4wsJy8fBm01n",
        "outputId": "7105c945-29fe-47dc-d125-80d401ee9741"
      },
      "outputs": [
        {
          "name": "stdout",
          "output_type": "stream",
          "text": [
            "Looking in indexes: https://pypi.org/simple, https://us-python.pkg.dev/colab-wheels/public/simple/\n",
            "Requirement already satisfied: pdf2image in /usr/local/lib/python3.7/dist-packages (1.16.0)\n",
            "Requirement already satisfied: pillow in /usr/local/lib/python3.7/dist-packages (from pdf2image) (7.1.2)\n",
            "\u001b[33mWARNING: Running pip as the 'root' user can result in broken permissions and conflicting behaviour with the system package manager. It is recommended to use a virtual environment instead: https://pip.pypa.io/warnings/venv\u001b[0m\u001b[33m\n",
            "\u001b[0mLooking in indexes: https://pypi.org/simple, https://us-python.pkg.dev/colab-wheels/public/simple/\n",
            "Requirement already satisfied: easyocr in /usr/local/lib/python3.7/dist-packages (1.6.2)\n",
            "Requirement already satisfied: torchvision>=0.5 in /usr/local/lib/python3.7/dist-packages (from easyocr) (0.13.1+cu113)\n",
            "Requirement already satisfied: scikit-image in /usr/local/lib/python3.7/dist-packages (from easyocr) (0.18.3)\n",
            "Requirement already satisfied: torch in /usr/local/lib/python3.7/dist-packages (from easyocr) (1.12.1+cu113)\n",
            "Requirement already satisfied: PyYAML in /usr/local/lib/python3.7/dist-packages (from easyocr) (6.0)\n",
            "Requirement already satisfied: pyclipper in /usr/local/lib/python3.7/dist-packages (from easyocr) (1.3.0.post3)\n",
            "Requirement already satisfied: Shapely in /usr/local/lib/python3.7/dist-packages (from easyocr) (1.8.5.post1)\n",
            "Requirement already satisfied: python-bidi in /usr/local/lib/python3.7/dist-packages (from easyocr) (0.4.2)\n",
            "Requirement already satisfied: numpy in /usr/local/lib/python3.7/dist-packages (from easyocr) (1.21.6)\n",
            "Requirement already satisfied: ninja in /usr/local/lib/python3.7/dist-packages (from easyocr) (1.10.2.4)\n",
            "Requirement already satisfied: scipy in /usr/local/lib/python3.7/dist-packages (from easyocr) (1.7.3)\n",
            "Requirement already satisfied: Pillow in /usr/local/lib/python3.7/dist-packages (from easyocr) (7.1.2)\n",
            "Requirement already satisfied: opencv-python-headless<=4.5.4.60 in /usr/local/lib/python3.7/dist-packages (from easyocr) (4.5.4.60)\n",
            "Requirement already satisfied: requests in /usr/local/lib/python3.7/dist-packages (from torchvision>=0.5->easyocr) (2.23.0)\n",
            "Requirement already satisfied: typing-extensions in /usr/local/lib/python3.7/dist-packages (from torchvision>=0.5->easyocr) (4.1.1)\n",
            "Requirement already satisfied: six in /usr/local/lib/python3.7/dist-packages (from python-bidi->easyocr) (1.15.0)\n",
            "Requirement already satisfied: PyWavelets>=1.1.1 in /usr/local/lib/python3.7/dist-packages (from scikit-image->easyocr) (1.3.0)\n",
            "Requirement already satisfied: matplotlib!=3.0.0,>=2.0.0 in /usr/local/lib/python3.7/dist-packages (from scikit-image->easyocr) (3.2.2)\n",
            "Requirement already satisfied: tifffile>=2019.7.26 in /usr/local/lib/python3.7/dist-packages (from scikit-image->easyocr) (2021.11.2)\n",
            "Requirement already satisfied: imageio>=2.3.0 in /usr/local/lib/python3.7/dist-packages (from scikit-image->easyocr) (2.9.0)\n",
            "Requirement already satisfied: networkx>=2.0 in /usr/local/lib/python3.7/dist-packages (from scikit-image->easyocr) (2.6.3)\n",
            "Requirement already satisfied: kiwisolver>=1.0.1 in /usr/local/lib/python3.7/dist-packages (from matplotlib!=3.0.0,>=2.0.0->scikit-image->easyocr) (1.4.4)\n",
            "Requirement already satisfied: python-dateutil>=2.1 in /usr/local/lib/python3.7/dist-packages (from matplotlib!=3.0.0,>=2.0.0->scikit-image->easyocr) (2.8.2)\n",
            "Requirement already satisfied: pyparsing!=2.0.4,!=2.1.2,!=2.1.6,>=2.0.1 in /usr/local/lib/python3.7/dist-packages (from matplotlib!=3.0.0,>=2.0.0->scikit-image->easyocr) (3.0.9)\n",
            "Requirement already satisfied: cycler>=0.10 in /usr/local/lib/python3.7/dist-packages (from matplotlib!=3.0.0,>=2.0.0->scikit-image->easyocr) (0.11.0)\n",
            "Requirement already satisfied: certifi>=2017.4.17 in /usr/local/lib/python3.7/dist-packages (from requests->torchvision>=0.5->easyocr) (2022.9.24)\n",
            "Requirement already satisfied: idna<3,>=2.5 in /usr/local/lib/python3.7/dist-packages (from requests->torchvision>=0.5->easyocr) (2.10)\n",
            "Requirement already satisfied: chardet<4,>=3.0.2 in /usr/local/lib/python3.7/dist-packages (from requests->torchvision>=0.5->easyocr) (3.0.4)\n",
            "Requirement already satisfied: urllib3!=1.25.0,!=1.25.1,<1.26,>=1.21.1 in /usr/local/lib/python3.7/dist-packages (from requests->torchvision>=0.5->easyocr) (1.24.3)\n",
            "\u001b[33mWARNING: Running pip as the 'root' user can result in broken permissions and conflicting behaviour with the system package manager. It is recommended to use a virtual environment instead: https://pip.pypa.io/warnings/venv\u001b[0m\u001b[33m\n",
            "\u001b[0m"
          ]
        }
      ],
      "source": [
        "!pip install pdf2image\n",
        "!pip install easyocr"
      ]
    },
    {
      "cell_type": "code",
      "execution_count": null,
      "metadata": {
        "colab": {
          "base_uri": "https://localhost:8080/"
        },
        "id": "fVkXSQHhm04J",
        "outputId": "8e6c06c1-9e9b-4ef2-eefb-887eb3032814"
      },
      "outputs": [
        {
          "name": "stdout",
          "output_type": "stream",
          "text": [
            "Reading package lists... Done\n",
            "Building dependency tree       \n",
            "Reading state information... Done\n",
            "poppler-utils is already the newest version (0.62.0-2ubuntu2.14).\n",
            "The following package was automatically installed and is no longer required:\n",
            "  libnvidia-common-460\n",
            "Use 'apt autoremove' to remove it.\n",
            "0 upgraded, 0 newly installed, 0 to remove and 27 not upgraded.\n"
          ]
        }
      ],
      "source": [
        "!apt-get install poppler-utils "
      ]
    },
    {
      "cell_type": "code",
      "execution_count": null,
      "metadata": {
        "id": "H8HQuIKNkkLb"
      },
      "outputs": [],
      "source": [
        "from pdf2image import convert_from_path\n",
        "from tqdm import tqdm\n",
        "import easyocr\n",
        "import numpy as np\n",
        "\n",
        "def extract_text(img_path, ocr_engine):\n",
        "    \"\"\"\n",
        "    Extract text from an image using OCR.\n",
        "    \"\"\"\n",
        "    # Load the OCR engine\n",
        "\n",
        "    # Extract the text\n",
        "    text = ocr_engine.readtext(img_path)\n",
        "\n",
        "    result = []\n",
        "\n",
        "    for entry in text:\n",
        "        for element in entry:\n",
        "            if isinstance(element, str):\n",
        "                result.append(element)\n",
        "\n",
        "    \n",
        "    return result"
      ]
    },
    {
      "cell_type": "code",
      "execution_count": null,
      "metadata": {
        "id": "wkXRWjVrkkNc"
      },
      "outputs": [],
      "source": [
        "def pdf_to_text(pdf_path):\n",
        "    \"\"\"\n",
        "    Convert a pdf to a list of text.\n",
        "    \"\"\"\n",
        "    # Convert pdf to images\n",
        "    images = convert_from_path(pdf_path)\n",
        "\n",
        "    # Convert them to numpy arrays\n",
        "    np_arrays = []\n",
        "    for image in images:\n",
        "        np_arrays.append(np.asarray(image))\n",
        "    \n",
        "    print(\"Converted PDF to images.\")\n",
        "    print('images len', len(images))\n",
        "    result = []\n",
        "    ocr = easyocr.Reader(['en'])\n",
        "    # Extract the text\n",
        "    for i in tqdm(range(len(np_arrays))):\n",
        "        result += extract_text(np_arrays[i], ocr)\n",
        "\n",
        "    return result"
      ]
    },
    {
      "cell_type": "code",
      "execution_count": null,
      "metadata": {
        "colab": {
          "base_uri": "https://localhost:8080/"
        },
        "id": "FZlf-DfhkkPf",
        "outputId": "c1bbab5f-e24b-47d7-8c62-fa1699e0b8c8"
      },
      "outputs": [
        {
          "name": "stderr",
          "output_type": "stream",
          "text": [
            "WARNING:easyocr.easyocr:CUDA not available - defaulting to CPU. Note: This module is much faster with a GPU.\n"
          ]
        },
        {
          "name": "stdout",
          "output_type": "stream",
          "text": [
            "Converted PDF to images.\n",
            "images len 2\n"
          ]
        },
        {
          "name": "stderr",
          "output_type": "stream",
          "text": [
            "100%|██████████| 2/2 [02:21<00:00, 70.87s/it]\n"
          ]
        }
      ],
      "source": [
        "text_first_2_page_middlesex = pdf_to_text('/content/drive/MyDrive/CS549_NLP_OCR_project/brady/Middlesex/BRADY DISCLOSURES_first_2.pdf')"
      ]
    },
    {
      "cell_type": "code",
      "execution_count": null,
      "metadata": {
        "colab": {
          "base_uri": "https://localhost:8080/"
        },
        "id": "76wgj6yykkSF",
        "outputId": "3b11772e-017c-4fde-d821-ba0e0f8de968"
      },
      "outputs": [
        {
          "data": {
            "text/plain": [
              "['COMMONWEALTH OF MASSACHUSETTS',\n",
              " 'MIDDLESEX, SS.',\n",
              " 'COURT',\n",
              " 'DOCKET NO.',\n",
              " 'COMMONWEALTH',\n",
              " 'COMMONWEALTH?S NOTICE',\n",
              " 'REGARDING',\n",
              " 'POTENTIAL COMMONWEALTH WITNESS',\n",
              " 'Now comes the Commonwealth; and in light of Mass.',\n",
              " 'R',\n",
              " 'Crim.',\n",
              " 'P.',\n",
              " '14 and',\n",
              " 'case',\n",
              " 'law,',\n",
              " 'including Matter of Grand Jury Investigation, 485 Mass. 641 (2020), hereby notifies the defendant',\n",
              " 'that one of the potential witnesses in this case, Dracut Police Officer Todd Allard,',\n",
              " 'was the',\n",
              " 'subject of an internal affairs investigation stemming from various shortcomings in his response to',\n",
              " 'request for mutual aid concerning an intoxicated operator of a motor vehicle on February 12,',\n",
              " '2020. The investigation sustained multiple violations of internal rules and regulations ofthe Dracut',\n",
              " 'Police Department; specifically neglect of duty, attention to duty, conduct unbecoming an officer',\n",
              " 'and multiple findings of untruthfulness during the course of the internal affairs investigation:',\n",
              " \"The Commonwealth recognizes that it is within this court '$ discretion to decide whether\",\n",
              " 'an',\n",
              " \"officer' s   credibility is\",\n",
              " 'a',\n",
              " 'critical',\n",
              " 'issue',\n",
              " 'at   trial   and',\n",
              " 'whether',\n",
              " 'false',\n",
              " 'statements',\n",
              " 'in',\n",
              " 'unconnected matter may significantly impact the trial, Commonwealthv. Lopes, 478 Mass. 593,',\n",
              " '606 (2018), but contends that such information is not admissible for impeachment',\n",
              " '<The well-',\n",
              " 'established rule in Massachusetts is that [s]pecific acts of prior misconduct of the witness',\n",
              " 'not',\n",
              " 'material to the case in which he testifies cannot be shown by the testimony of impeaching witnesses',\n",
              " \"or other extrinsic evidence to affect [the witness's] credibility.'\",\n",
              " 'Commonwealth v LaVelle; 414',\n",
              " 'Mass.',\n",
              " '146,',\n",
              " '151',\n",
              " '(1993) (quotation omitted)',\n",
              " 'See Commonwealth v. Avalos, 454 Mass.',\n",
              " '1,',\n",
              " '10-',\n",
              " '11 (2009) (absent a conviction, evidence of act of untruthfulness inadmissible for impeachment);',\n",
              " 'Mass. G. Evid. $ 608(b) (specific instances of misconduct showing untruthfulness not admissible',\n",
              " 'to attack or support credibility).',\n",
              " 'prior',\n",
              " 'an',\n",
              " 'Respectfully Submitted',\n",
              " 'For the Commonwealth',\n",
              " 'MARIAN T. RYAN',\n",
              " 'DISTRICT ATTORNEY',\n",
              " 'Assistant District Attorney',\n",
              " 'Date:']"
            ]
          },
          "execution_count": 9,
          "metadata": {},
          "output_type": "execute_result"
        }
      ],
      "source": [
        "# the first two page of Middlesex Brady Disclosure\n",
        "text_first_2_page_middlesex"
      ]
    },
    {
      "cell_type": "code",
      "execution_count": null,
      "metadata": {
        "colab": {
          "base_uri": "https://localhost:8080/"
        },
        "id": "ZzgxrhjVkkUP",
        "outputId": "56cf3908-6a53-42c1-a9a3-1a87d6fd9b57"
      },
      "outputs": [
        {
          "name": "stdout",
          "output_type": "stream",
          "text": [
            "Looking in indexes: https://pypi.org/simple, https://us-python.pkg.dev/colab-wheels/public/simple/\n",
            "Requirement already satisfied: pip in /usr/local/lib/python3.7/dist-packages (22.3)\n",
            "Requirement already satisfied: setuptools in /usr/local/lib/python3.7/dist-packages (65.5.0)\n",
            "Requirement already satisfied: wheel in /usr/local/lib/python3.7/dist-packages (0.37.1)\n",
            "\u001b[33mWARNING: Running pip as the 'root' user can result in broken permissions and conflicting behaviour with the system package manager. It is recommended to use a virtual environment instead: https://pip.pypa.io/warnings/venv\u001b[0m\u001b[33m\n",
            "\u001b[0mLooking in indexes: https://pypi.org/simple, https://us-python.pkg.dev/colab-wheels/public/simple/\n",
            "Requirement already satisfied: spacy in /usr/local/lib/python3.7/dist-packages (3.4.2)\n",
            "Requirement already satisfied: spacy-loggers<2.0.0,>=1.0.0 in /usr/local/lib/python3.7/dist-packages (from spacy) (1.0.3)\n",
            "Requirement already satisfied: catalogue<2.1.0,>=2.0.6 in /usr/local/lib/python3.7/dist-packages (from spacy) (2.0.8)\n",
            "Requirement already satisfied: srsly<3.0.0,>=2.4.3 in /usr/local/lib/python3.7/dist-packages (from spacy) (2.4.4)\n",
            "Requirement already satisfied: preshed<3.1.0,>=3.0.2 in /usr/local/lib/python3.7/dist-packages (from spacy) (3.0.8)\n",
            "Requirement already satisfied: pathy>=0.3.5 in /usr/local/lib/python3.7/dist-packages (from spacy) (0.6.2)\n",
            "Requirement already satisfied: packaging>=20.0 in /usr/local/lib/python3.7/dist-packages (from spacy) (21.3)\n",
            "Requirement already satisfied: wasabi<1.1.0,>=0.9.1 in /usr/local/lib/python3.7/dist-packages (from spacy) (0.10.1)\n",
            "Requirement already satisfied: setuptools in /usr/local/lib/python3.7/dist-packages (from spacy) (65.5.0)\n",
            "Requirement already satisfied: typer<0.5.0,>=0.3.0 in /usr/local/lib/python3.7/dist-packages (from spacy) (0.4.2)\n",
            "Requirement already satisfied: murmurhash<1.1.0,>=0.28.0 in /usr/local/lib/python3.7/dist-packages (from spacy) (1.0.9)\n",
            "Requirement already satisfied: requests<3.0.0,>=2.13.0 in /usr/local/lib/python3.7/dist-packages (from spacy) (2.23.0)\n",
            "Requirement already satisfied: langcodes<4.0.0,>=3.2.0 in /usr/local/lib/python3.7/dist-packages (from spacy) (3.3.0)\n",
            "Requirement already satisfied: thinc<8.2.0,>=8.1.0 in /usr/local/lib/python3.7/dist-packages (from spacy) (8.1.4)\n",
            "Requirement already satisfied: spacy-legacy<3.1.0,>=3.0.10 in /usr/local/lib/python3.7/dist-packages (from spacy) (3.0.10)\n",
            "Requirement already satisfied: jinja2 in /usr/local/lib/python3.7/dist-packages (from spacy) (2.11.3)\n",
            "Requirement already satisfied: numpy>=1.15.0 in /usr/local/lib/python3.7/dist-packages (from spacy) (1.21.6)\n",
            "Requirement already satisfied: pydantic!=1.8,!=1.8.1,<1.11.0,>=1.7.4 in /usr/local/lib/python3.7/dist-packages (from spacy) (1.9.2)\n",
            "Requirement already satisfied: cymem<2.1.0,>=2.0.2 in /usr/local/lib/python3.7/dist-packages (from spacy) (2.0.7)\n",
            "Requirement already satisfied: typing-extensions<4.2.0,>=3.7.4 in /usr/local/lib/python3.7/dist-packages (from spacy) (4.1.1)\n",
            "Requirement already satisfied: tqdm<5.0.0,>=4.38.0 in /usr/local/lib/python3.7/dist-packages (from spacy) (4.64.1)\n",
            "Requirement already satisfied: zipp>=0.5 in /usr/local/lib/python3.7/dist-packages (from catalogue<2.1.0,>=2.0.6->spacy) (3.9.0)\n",
            "Requirement already satisfied: pyparsing!=3.0.5,>=2.0.2 in /usr/local/lib/python3.7/dist-packages (from packaging>=20.0->spacy) (3.0.9)\n",
            "Requirement already satisfied: smart-open<6.0.0,>=5.2.1 in /usr/local/lib/python3.7/dist-packages (from pathy>=0.3.5->spacy) (5.2.1)\n",
            "Requirement already satisfied: certifi>=2017.4.17 in /usr/local/lib/python3.7/dist-packages (from requests<3.0.0,>=2.13.0->spacy) (2022.9.24)\n",
            "Requirement already satisfied: idna<3,>=2.5 in /usr/local/lib/python3.7/dist-packages (from requests<3.0.0,>=2.13.0->spacy) (2.10)\n",
            "Requirement already satisfied: chardet<4,>=3.0.2 in /usr/local/lib/python3.7/dist-packages (from requests<3.0.0,>=2.13.0->spacy) (3.0.4)\n",
            "Requirement already satisfied: urllib3!=1.25.0,!=1.25.1,<1.26,>=1.21.1 in /usr/local/lib/python3.7/dist-packages (from requests<3.0.0,>=2.13.0->spacy) (1.24.3)\n",
            "Requirement already satisfied: confection<1.0.0,>=0.0.1 in /usr/local/lib/python3.7/dist-packages (from thinc<8.2.0,>=8.1.0->spacy) (0.0.3)\n",
            "Requirement already satisfied: blis<0.8.0,>=0.7.8 in /usr/local/lib/python3.7/dist-packages (from thinc<8.2.0,>=8.1.0->spacy) (0.7.8)\n",
            "Requirement already satisfied: click<9.0.0,>=7.1.1 in /usr/local/lib/python3.7/dist-packages (from typer<0.5.0,>=0.3.0->spacy) (7.1.2)\n",
            "Requirement already satisfied: MarkupSafe>=0.23 in /usr/local/lib/python3.7/dist-packages (from jinja2->spacy) (2.0.1)\n",
            "\u001b[33mWARNING: Running pip as the 'root' user can result in broken permissions and conflicting behaviour with the system package manager. It is recommended to use a virtual environment instead: https://pip.pypa.io/warnings/venv\u001b[0m\u001b[33m\n",
            "\u001b[0m2022-10-24 21:44:40.025855: E tensorflow/stream_executor/cuda/cuda_driver.cc:271] failed call to cuInit: CUDA_ERROR_NO_DEVICE: no CUDA-capable device is detected\n",
            "Looking in indexes: https://pypi.org/simple, https://us-python.pkg.dev/colab-wheels/public/simple/\n",
            "Collecting en-core-web-sm==3.4.1\n",
            "  Downloading https://github.com/explosion/spacy-models/releases/download/en_core_web_sm-3.4.1/en_core_web_sm-3.4.1-py3-none-any.whl (12.8 MB)\n",
            "\u001b[2K     \u001b[90m━━━━━━━━━━━━━━━━━━━━━━━━━━━━━━━━━━━━━━━━\u001b[0m \u001b[32m12.8/12.8 MB\u001b[0m \u001b[31m22.7 MB/s\u001b[0m eta \u001b[36m0:00:00\u001b[0m\n",
            "\u001b[?25hRequirement already satisfied: spacy<3.5.0,>=3.4.0 in /usr/local/lib/python3.7/dist-packages (from en-core-web-sm==3.4.1) (3.4.2)\n",
            "Requirement already satisfied: tqdm<5.0.0,>=4.38.0 in /usr/local/lib/python3.7/dist-packages (from spacy<3.5.0,>=3.4.0->en-core-web-sm==3.4.1) (4.64.1)\n",
            "Requirement already satisfied: cymem<2.1.0,>=2.0.2 in /usr/local/lib/python3.7/dist-packages (from spacy<3.5.0,>=3.4.0->en-core-web-sm==3.4.1) (2.0.7)\n",
            "Requirement already satisfied: spacy-legacy<3.1.0,>=3.0.10 in /usr/local/lib/python3.7/dist-packages (from spacy<3.5.0,>=3.4.0->en-core-web-sm==3.4.1) (3.0.10)\n",
            "Requirement already satisfied: typing-extensions<4.2.0,>=3.7.4 in /usr/local/lib/python3.7/dist-packages (from spacy<3.5.0,>=3.4.0->en-core-web-sm==3.4.1) (4.1.1)\n",
            "Requirement already satisfied: catalogue<2.1.0,>=2.0.6 in /usr/local/lib/python3.7/dist-packages (from spacy<3.5.0,>=3.4.0->en-core-web-sm==3.4.1) (2.0.8)\n",
            "Requirement already satisfied: numpy>=1.15.0 in /usr/local/lib/python3.7/dist-packages (from spacy<3.5.0,>=3.4.0->en-core-web-sm==3.4.1) (1.21.6)\n",
            "Requirement already satisfied: wasabi<1.1.0,>=0.9.1 in /usr/local/lib/python3.7/dist-packages (from spacy<3.5.0,>=3.4.0->en-core-web-sm==3.4.1) (0.10.1)\n",
            "Requirement already satisfied: pydantic!=1.8,!=1.8.1,<1.11.0,>=1.7.4 in /usr/local/lib/python3.7/dist-packages (from spacy<3.5.0,>=3.4.0->en-core-web-sm==3.4.1) (1.9.2)\n",
            "Requirement already satisfied: typer<0.5.0,>=0.3.0 in /usr/local/lib/python3.7/dist-packages (from spacy<3.5.0,>=3.4.0->en-core-web-sm==3.4.1) (0.4.2)\n",
            "Requirement already satisfied: packaging>=20.0 in /usr/local/lib/python3.7/dist-packages (from spacy<3.5.0,>=3.4.0->en-core-web-sm==3.4.1) (21.3)\n",
            "Requirement already satisfied: thinc<8.2.0,>=8.1.0 in /usr/local/lib/python3.7/dist-packages (from spacy<3.5.0,>=3.4.0->en-core-web-sm==3.4.1) (8.1.4)\n",
            "Requirement already satisfied: spacy-loggers<2.0.0,>=1.0.0 in /usr/local/lib/python3.7/dist-packages (from spacy<3.5.0,>=3.4.0->en-core-web-sm==3.4.1) (1.0.3)\n",
            "Requirement already satisfied: requests<3.0.0,>=2.13.0 in /usr/local/lib/python3.7/dist-packages (from spacy<3.5.0,>=3.4.0->en-core-web-sm==3.4.1) (2.23.0)\n",
            "Requirement already satisfied: murmurhash<1.1.0,>=0.28.0 in /usr/local/lib/python3.7/dist-packages (from spacy<3.5.0,>=3.4.0->en-core-web-sm==3.4.1) (1.0.9)\n",
            "Requirement already satisfied: srsly<3.0.0,>=2.4.3 in /usr/local/lib/python3.7/dist-packages (from spacy<3.5.0,>=3.4.0->en-core-web-sm==3.4.1) (2.4.4)\n",
            "Requirement already satisfied: setuptools in /usr/local/lib/python3.7/dist-packages (from spacy<3.5.0,>=3.4.0->en-core-web-sm==3.4.1) (65.5.0)\n",
            "Requirement already satisfied: jinja2 in /usr/local/lib/python3.7/dist-packages (from spacy<3.5.0,>=3.4.0->en-core-web-sm==3.4.1) (2.11.3)\n",
            "Requirement already satisfied: preshed<3.1.0,>=3.0.2 in /usr/local/lib/python3.7/dist-packages (from spacy<3.5.0,>=3.4.0->en-core-web-sm==3.4.1) (3.0.8)\n",
            "Requirement already satisfied: pathy>=0.3.5 in /usr/local/lib/python3.7/dist-packages (from spacy<3.5.0,>=3.4.0->en-core-web-sm==3.4.1) (0.6.2)\n",
            "Requirement already satisfied: langcodes<4.0.0,>=3.2.0 in /usr/local/lib/python3.7/dist-packages (from spacy<3.5.0,>=3.4.0->en-core-web-sm==3.4.1) (3.3.0)\n",
            "Requirement already satisfied: zipp>=0.5 in /usr/local/lib/python3.7/dist-packages (from catalogue<2.1.0,>=2.0.6->spacy<3.5.0,>=3.4.0->en-core-web-sm==3.4.1) (3.9.0)\n",
            "Requirement already satisfied: pyparsing!=3.0.5,>=2.0.2 in /usr/local/lib/python3.7/dist-packages (from packaging>=20.0->spacy<3.5.0,>=3.4.0->en-core-web-sm==3.4.1) (3.0.9)\n",
            "Requirement already satisfied: smart-open<6.0.0,>=5.2.1 in /usr/local/lib/python3.7/dist-packages (from pathy>=0.3.5->spacy<3.5.0,>=3.4.0->en-core-web-sm==3.4.1) (5.2.1)\n",
            "Requirement already satisfied: idna<3,>=2.5 in /usr/local/lib/python3.7/dist-packages (from requests<3.0.0,>=2.13.0->spacy<3.5.0,>=3.4.0->en-core-web-sm==3.4.1) (2.10)\n",
            "Requirement already satisfied: certifi>=2017.4.17 in /usr/local/lib/python3.7/dist-packages (from requests<3.0.0,>=2.13.0->spacy<3.5.0,>=3.4.0->en-core-web-sm==3.4.1) (2022.9.24)\n",
            "Requirement already satisfied: chardet<4,>=3.0.2 in /usr/local/lib/python3.7/dist-packages (from requests<3.0.0,>=2.13.0->spacy<3.5.0,>=3.4.0->en-core-web-sm==3.4.1) (3.0.4)\n",
            "Requirement already satisfied: urllib3!=1.25.0,!=1.25.1,<1.26,>=1.21.1 in /usr/local/lib/python3.7/dist-packages (from requests<3.0.0,>=2.13.0->spacy<3.5.0,>=3.4.0->en-core-web-sm==3.4.1) (1.24.3)\n",
            "Requirement already satisfied: blis<0.8.0,>=0.7.8 in /usr/local/lib/python3.7/dist-packages (from thinc<8.2.0,>=8.1.0->spacy<3.5.0,>=3.4.0->en-core-web-sm==3.4.1) (0.7.8)\n",
            "Requirement already satisfied: confection<1.0.0,>=0.0.1 in /usr/local/lib/python3.7/dist-packages (from thinc<8.2.0,>=8.1.0->spacy<3.5.0,>=3.4.0->en-core-web-sm==3.4.1) (0.0.3)\n",
            "Requirement already satisfied: click<9.0.0,>=7.1.1 in /usr/local/lib/python3.7/dist-packages (from typer<0.5.0,>=0.3.0->spacy<3.5.0,>=3.4.0->en-core-web-sm==3.4.1) (7.1.2)\n",
            "Requirement already satisfied: MarkupSafe>=0.23 in /usr/local/lib/python3.7/dist-packages (from jinja2->spacy<3.5.0,>=3.4.0->en-core-web-sm==3.4.1) (2.0.1)\n",
            "\u001b[33mWARNING: Running pip as the 'root' user can result in broken permissions and conflicting behaviour with the system package manager. It is recommended to use a virtual environment instead: https://pip.pypa.io/warnings/venv\u001b[0m\u001b[33m\n",
            "\u001b[0m\u001b[38;5;2m✔ Download and installation successful\u001b[0m\n",
            "You can now load the package via spacy.load('en_core_web_sm')\n"
          ]
        }
      ],
      "source": [
        "!pip install -U pip setuptools wheel\n",
        "!pip install -U spacy\n",
        "!python -m spacy download en_core_web_sm"
      ]
    },
    {
      "cell_type": "markdown",
      "source": [
        "# Preprocess and preform data cleaning "
      ],
      "metadata": {
        "id": "NGHGy5COfQuF"
      }
    },
    {
      "cell_type": "markdown",
      "source": [
        "In this section, we extract the essential PDF documents from the Middlesex county and tranform it from PDF docuemnt into text and stores it in a pandas dataframe. Then, we preprocess the data by making all letter into lower letter. \n",
        "\n",
        "1: segment all the sentences in the texts.\n",
        "\n",
        "2: tokenize the sentences.\n",
        "\n",
        "3: lemmatize the tokens\n",
        "\n",
        "4: lower-case the tokens"
      ],
      "metadata": {
        "id": "jCCjmwmkgxPM"
      }
    },
    {
      "cell_type": "code",
      "execution_count": null,
      "metadata": {
        "colab": {
          "base_uri": "https://localhost:8080/"
        },
        "id": "Tlw2_4nO-Mjo",
        "outputId": "41f0637b-ddad-4c84-b056-2bdd0a43b484"
      },
      "outputs": [
        {
          "name": "stderr",
          "output_type": "stream",
          "text": [
            "[nltk_data] Downloading package punkt to /root/nltk_data...\n",
            "[nltk_data]   Unzipping tokenizers/punkt.zip.\n"
          ]
        },
        {
          "data": {
            "text/plain": [
              "True"
            ]
          },
          "execution_count": 17,
          "metadata": {},
          "output_type": "execute_result"
        }
      ],
      "source": [
        "import nltk\n",
        "nltk.download('punkt')"
      ]
    },
    {
      "cell_type": "code",
      "execution_count": null,
      "metadata": {
        "colab": {
          "base_uri": "https://localhost:8080/",
          "height": 363
        },
        "id": "tN358EWV-MmW",
        "outputId": "fa14ae3b-ac4c-4d46-ca9b-2518201df5da"
      },
      "outputs": [
        {
          "data": {
            "text/html": [
              "\n",
              "  <div id=\"df-123a911b-7942-4e63-bb98-ec714bb46c09\">\n",
              "    <div class=\"colab-df-container\">\n",
              "      <div>\n",
              "<style scoped>\n",
              "    .dataframe tbody tr th:only-of-type {\n",
              "        vertical-align: middle;\n",
              "    }\n",
              "\n",
              "    .dataframe tbody tr th {\n",
              "        vertical-align: top;\n",
              "    }\n",
              "\n",
              "    .dataframe thead th {\n",
              "        text-align: right;\n",
              "    }\n",
              "</style>\n",
              "<table border=\"1\" class=\"dataframe\">\n",
              "  <thead>\n",
              "    <tr style=\"text-align: right;\">\n",
              "      <th></th>\n",
              "      <th>text</th>\n",
              "    </tr>\n",
              "  </thead>\n",
              "  <tbody>\n",
              "    <tr>\n",
              "      <th>0</th>\n",
              "      <td>COMMONWEALTH OF MASSACHUSETTS</td>\n",
              "    </tr>\n",
              "    <tr>\n",
              "      <th>1</th>\n",
              "      <td>MIDDLESEX, SS.</td>\n",
              "    </tr>\n",
              "    <tr>\n",
              "      <th>2</th>\n",
              "      <td>COURT</td>\n",
              "    </tr>\n",
              "    <tr>\n",
              "      <th>3</th>\n",
              "      <td>DOCKET NO.</td>\n",
              "    </tr>\n",
              "    <tr>\n",
              "      <th>4</th>\n",
              "      <td>COMMONWEALTH</td>\n",
              "    </tr>\n",
              "    <tr>\n",
              "      <th>5</th>\n",
              "      <td>COMMONWEALTH?S NOTICE</td>\n",
              "    </tr>\n",
              "    <tr>\n",
              "      <th>6</th>\n",
              "      <td>REGARDING</td>\n",
              "    </tr>\n",
              "    <tr>\n",
              "      <th>7</th>\n",
              "      <td>POTENTIAL COMMONWEALTH WITNESS</td>\n",
              "    </tr>\n",
              "    <tr>\n",
              "      <th>8</th>\n",
              "      <td>Now comes the Commonwealth; and in light of Mass.</td>\n",
              "    </tr>\n",
              "    <tr>\n",
              "      <th>9</th>\n",
              "      <td>R</td>\n",
              "    </tr>\n",
              "  </tbody>\n",
              "</table>\n",
              "</div>\n",
              "      <button class=\"colab-df-convert\" onclick=\"convertToInteractive('df-123a911b-7942-4e63-bb98-ec714bb46c09')\"\n",
              "              title=\"Convert this dataframe to an interactive table.\"\n",
              "              style=\"display:none;\">\n",
              "        \n",
              "  <svg xmlns=\"http://www.w3.org/2000/svg\" height=\"24px\"viewBox=\"0 0 24 24\"\n",
              "       width=\"24px\">\n",
              "    <path d=\"M0 0h24v24H0V0z\" fill=\"none\"/>\n",
              "    <path d=\"M18.56 5.44l.94 2.06.94-2.06 2.06-.94-2.06-.94-.94-2.06-.94 2.06-2.06.94zm-11 1L8.5 8.5l.94-2.06 2.06-.94-2.06-.94L8.5 2.5l-.94 2.06-2.06.94zm10 10l.94 2.06.94-2.06 2.06-.94-2.06-.94-.94-2.06-.94 2.06-2.06.94z\"/><path d=\"M17.41 7.96l-1.37-1.37c-.4-.4-.92-.59-1.43-.59-.52 0-1.04.2-1.43.59L10.3 9.45l-7.72 7.72c-.78.78-.78 2.05 0 2.83L4 21.41c.39.39.9.59 1.41.59.51 0 1.02-.2 1.41-.59l7.78-7.78 2.81-2.81c.8-.78.8-2.07 0-2.86zM5.41 20L4 18.59l7.72-7.72 1.47 1.35L5.41 20z\"/>\n",
              "  </svg>\n",
              "      </button>\n",
              "      \n",
              "  <style>\n",
              "    .colab-df-container {\n",
              "      display:flex;\n",
              "      flex-wrap:wrap;\n",
              "      gap: 12px;\n",
              "    }\n",
              "\n",
              "    .colab-df-convert {\n",
              "      background-color: #E8F0FE;\n",
              "      border: none;\n",
              "      border-radius: 50%;\n",
              "      cursor: pointer;\n",
              "      display: none;\n",
              "      fill: #1967D2;\n",
              "      height: 32px;\n",
              "      padding: 0 0 0 0;\n",
              "      width: 32px;\n",
              "    }\n",
              "\n",
              "    .colab-df-convert:hover {\n",
              "      background-color: #E2EBFA;\n",
              "      box-shadow: 0px 1px 2px rgba(60, 64, 67, 0.3), 0px 1px 3px 1px rgba(60, 64, 67, 0.15);\n",
              "      fill: #174EA6;\n",
              "    }\n",
              "\n",
              "    [theme=dark] .colab-df-convert {\n",
              "      background-color: #3B4455;\n",
              "      fill: #D2E3FC;\n",
              "    }\n",
              "\n",
              "    [theme=dark] .colab-df-convert:hover {\n",
              "      background-color: #434B5C;\n",
              "      box-shadow: 0px 1px 3px 1px rgba(0, 0, 0, 0.15);\n",
              "      filter: drop-shadow(0px 1px 2px rgba(0, 0, 0, 0.3));\n",
              "      fill: #FFFFFF;\n",
              "    }\n",
              "  </style>\n",
              "\n",
              "      <script>\n",
              "        const buttonEl =\n",
              "          document.querySelector('#df-123a911b-7942-4e63-bb98-ec714bb46c09 button.colab-df-convert');\n",
              "        buttonEl.style.display =\n",
              "          google.colab.kernel.accessAllowed ? 'block' : 'none';\n",
              "\n",
              "        async function convertToInteractive(key) {\n",
              "          const element = document.querySelector('#df-123a911b-7942-4e63-bb98-ec714bb46c09');\n",
              "          const dataTable =\n",
              "            await google.colab.kernel.invokeFunction('convertToInteractive',\n",
              "                                                     [key], {});\n",
              "          if (!dataTable) return;\n",
              "\n",
              "          const docLinkHtml = 'Like what you see? Visit the ' +\n",
              "            '<a target=\"_blank\" href=https://colab.research.google.com/notebooks/data_table.ipynb>data table notebook</a>'\n",
              "            + ' to learn more about interactive tables.';\n",
              "          element.innerHTML = '';\n",
              "          dataTable['output_type'] = 'display_data';\n",
              "          await google.colab.output.renderOutput(dataTable, element);\n",
              "          const docLink = document.createElement('div');\n",
              "          docLink.innerHTML = docLinkHtml;\n",
              "          element.appendChild(docLink);\n",
              "        }\n",
              "      </script>\n",
              "    </div>\n",
              "  </div>\n",
              "  "
            ],
            "text/plain": [
              "                                                text\n",
              "0                      COMMONWEALTH OF MASSACHUSETTS\n",
              "1                                     MIDDLESEX, SS.\n",
              "2                                              COURT\n",
              "3                                         DOCKET NO.\n",
              "4                                       COMMONWEALTH\n",
              "5                              COMMONWEALTH?S NOTICE\n",
              "6                                          REGARDING\n",
              "7                     POTENTIAL COMMONWEALTH WITNESS\n",
              "8  Now comes the Commonwealth; and in light of Mass.\n",
              "9                                                  R"
            ]
          },
          "execution_count": 29,
          "metadata": {},
          "output_type": "execute_result"
        }
      ],
      "source": [
        "import pandas as pd\n",
        "import numpy as np\n",
        "\n",
        "middlesex = pd.DataFrame(text_first_2_page_middlesex, columns=['text'])\n",
        "middlesex[:10]"
      ]
    },
    {
      "cell_type": "code",
      "execution_count": null,
      "metadata": {
        "colab": {
          "base_uri": "https://localhost:8080/"
        },
        "id": "A6TlEUz-_Xw_",
        "outputId": "285f893b-8bce-4294-e563-0ea6bdae6fda"
      },
      "outputs": [
        {
          "data": {
            "text/plain": [
              "60"
            ]
          },
          "execution_count": 24,
          "metadata": {},
          "output_type": "execute_result"
        }
      ],
      "source": [
        "len(middlesex)"
      ]
    },
    {
      "cell_type": "code",
      "execution_count": null,
      "metadata": {
        "colab": {
          "base_uri": "https://localhost:8080/",
          "height": 35
        },
        "id": "n3SSFuE8_bgp",
        "outputId": "e5cbe709-18fe-4ae5-c1e5-45a4c60fcd75"
      },
      "outputs": [
        {
          "data": {
            "application/vnd.google.colaboratory.intrinsic+json": {
              "type": "string"
            },
            "text/plain": [
              "'COMMONWEALTH OF MASSACHUSETTS'"
            ]
          },
          "execution_count": 34,
          "metadata": {},
          "output_type": "execute_result"
        }
      ],
      "source": [
        "middlesex['text'].iloc[0]"
      ]
    },
    {
      "cell_type": "code",
      "execution_count": null,
      "metadata": {
        "id": "TZBoNGwv-Mot"
      },
      "outputs": [],
      "source": [
        "from nltk import word_tokenize, sent_tokenize\n",
        "from nltk.tokenize import TweetTokenizer"
      ]
    },
    {
      "cell_type": "code",
      "execution_count": null,
      "metadata": {
        "colab": {
          "base_uri": "https://localhost:8080/"
        },
        "id": "zz4LNGNT-Mr0",
        "outputId": "b6791f9c-0ddb-40ec-86da-8aa8aed6080d"
      },
      "outputs": [
        {
          "name": "stdout",
          "output_type": "stream",
          "text": [
            "[['commonwealth', 'of', 'massachusetts'], ['middlesex', ',', 'ss', '.'], ['court'], ['docket', 'no', '.'], ['commonwealth'], ['commonwealth', '?', 's', 'notice'], ['regarding'], ['potential', 'commonwealth', 'witness'], ['now', 'comes', 'the', 'commonwealth', ';', 'and', 'in', 'light', 'of', 'mass', '.'], ['r'], ['crim', '.'], ['p', '.'], ['14', 'and'], ['case'], ['law', ','], ['including', 'matter', 'of', 'grand', 'jury', 'investigation', ',', '485', 'mass', '.'], ['641', '(', '2020', ')', ',', 'hereby', 'notifies', 'the', 'defendant'], ['that', 'one', 'of', 'the', 'potential', 'witnesses', 'in', 'this', 'case', ',', 'dracut', 'police', 'officer', 'todd', 'allard', ','], ['was', 'the'], ['subject', 'of', 'an', 'internal', 'affairs', 'investigation', 'stemming', 'from', 'various', 'shortcomings', 'in', 'his', 'response', 'to'], ['request', 'for', 'mutual', 'aid', 'concerning', 'an', 'intoxicated', 'operator', 'of', 'a', 'motor', 'vehicle', 'on', 'february', '12', ','], ['2020', '.', 'the', 'investigation', 'sustained', 'multiple', 'violations', 'of', 'internal', 'rules', 'and', 'regulations', 'ofthe', 'dracut'], ['police', 'department', ';', 'specifically', 'neglect', 'of', 'duty', ',', 'attention', 'to', 'duty', ',', 'conduct', 'unbecoming', 'an', 'officer'], ['and', 'multiple', 'findings', 'of', 'untruthfulness', 'during', 'the', 'course', 'of', 'the', 'internal', 'affairs', 'investigation', ':'], ['the', 'commonwealth', 'recognizes', 'that', 'it', 'is', 'within', 'this', 'court', \"'\", '$', 'discretion', 'to', 'decide', 'whether'], ['an'], ['officer', \"'\", 's', 'credibility', 'is'], ['a'], ['critical'], ['issue'], ['at', 'trial', 'and'], ['whether'], ['false'], ['statements'], ['in'], ['unconnected', 'matter', 'may', 'significantly', 'impact', 'the', 'trial', ',', 'commonwealthv', '.'], ['lopes', ',', '478', 'mass', '.'], ['593', ','], ['606', '(', '2018', ')', ',', 'but', 'contends', 'that', 'such', 'information', 'is', 'not', 'admissible', 'for', 'impeachment'], ['<', 'the', 'well', '-'], ['established', 'rule', 'in', 'massachusetts', 'is', 'that', '[', 's', ']', 'pecific', 'acts', 'of', 'prior', 'misconduct', 'of', 'the', 'witness'], ['not'], ['material', 'to', 'the', 'case', 'in', 'which', 'he', 'testifies', 'cannot', 'be', 'shown', 'by', 'the', 'testimony', 'of', 'impeaching', 'witnesses'], ['or', 'other', 'extrinsic', 'evidence', 'to', 'affect', '[', 'the', \"witness's\", ']', 'credibility', '.', \"'\"], ['commonwealth', 'v', 'lavelle', ';', '414'], ['mass', '.'], ['146', ','], ['151'], ['(', '1993', ')', '(', 'quotation', 'omitted', ')'], ['see', 'commonwealth', 'v', '.', 'avalos', ',', '454', 'mass', '.'], ['1', ','], ['10', '-'], ['11', '(', '2009', ')', '(', 'absent', 'a', 'conviction', ',', 'evidence', 'of', 'act', 'of', 'untruthfulness', 'inadmissible', 'for', 'impeachment', ');'], ['mass', '.'], ['g', '.', 'evid', '.'], ['$', '608', '(', 'b', ')', '(', 'specific', 'instances', 'of', 'misconduct', 'showing', 'untruthfulness', 'not', 'admissible'], ['to', 'attack', 'or', 'support', 'credibility', ')', '.'], ['prior'], ['an'], ['respectfully', 'submitted'], ['for', 'the', 'commonwealth'], ['marian', 't', '.', 'ryan'], ['district', 'attorney'], ['assistant', 'district', 'attorney'], ['date', ':']]\n"
          ]
        }
      ],
      "source": [
        "preprocess_middlesex = []\n",
        "for i in range(len(middlesex)):\n",
        "  tk = TweetTokenizer()\n",
        "  sentense = sent_tokenize(middlesex['text'].iloc[i].lower())\n",
        "  for sent in sentense:\n",
        "      tk = TweetTokenizer()\n",
        "      preprocess_middlesex.append(tk.tokenize(sent))\n",
        "print(preprocess_middlesex)"
      ]
    },
    {
      "cell_type": "markdown",
      "source": [
        "# We trained a n-gram model with add-one smoothing trained on our input data"
      ],
      "metadata": {
        "id": "BU4oHQS-j7Mm"
      }
    },
    {
      "cell_type": "code",
      "execution_count": null,
      "metadata": {
        "id": "C-XqErcl-Mxy"
      },
      "outputs": [],
      "source": [
        "from functools import partial\n",
        "from itertools import chain\n",
        "from nltk.lm.preprocessing import padded_everygram_pipeline\n",
        "from nltk.util import everygrams, pad_sequence\n",
        "from nltk.lm import Laplace\n",
        "from nltk.util import ngrams"
      ]
    },
    {
      "cell_type": "code",
      "execution_count": null,
      "metadata": {
        "id": "ks5Cn8sEB9I_"
      },
      "outputs": [],
      "source": [
        "# A n-gram model with add-one smoothing trained on our input data\n",
        "def trainNGramAddOneSmoothing(trainData,ngram):\n",
        "  \n",
        "  train,vocab = padded_everygram_pipeline(order = ngram, text = trainData)\n",
        "  model = Laplace(ngram)\n",
        "  model.fit(train, vocab)\n",
        "  return model\n",
        "\n",
        "unigram= trainNGramAddOneSmoothing(preprocess_middlesex,1)\n",
        "bigram= trainNGramAddOneSmoothing(preprocess_middlesex,2)\n",
        "trigram= trainNGramAddOneSmoothing(preprocess_middlesex,3)"
      ]
    },
    {
      "cell_type": "code",
      "execution_count": null,
      "metadata": {
        "colab": {
          "base_uri": "https://localhost:8080/"
        },
        "id": "qZjd9JT6B9Lb",
        "outputId": "16e0bf04-9e17-4226-85a5-9719f2ed641b"
      },
      "outputs": [
        {
          "data": {
            "text/plain": [
              "['middlesex',\n",
              " 'police',\n",
              " 'ryan',\n",
              " 'untruthfulness',\n",
              " 'pecific',\n",
              " 'to',\n",
              " ')',\n",
              " 'for',\n",
              " 'untruthfulness',\n",
              " 'no',\n",
              " 'the',\n",
              " '.',\n",
              " 'for',\n",
              " 'affairs',\n",
              " 'intoxicated',\n",
              " 'lavelle',\n",
              " '(',\n",
              " ']',\n",
              " 'and',\n",
              " 'to']"
            ]
          },
          "execution_count": 41,
          "metadata": {},
          "output_type": "execute_result"
        }
      ],
      "source": [
        "#unigram\n",
        "unigram.generate(20,text_seed=['<s>'],random_seed = 5)"
      ]
    },
    {
      "cell_type": "code",
      "execution_count": null,
      "metadata": {
        "colab": {
          "base_uri": "https://localhost:8080/"
        },
        "id": "qXg77-gHB9OU",
        "outputId": "9c38af64-3560-4053-8003-af638e5364fd"
      },
      "outputs": [
        {
          "data": {
            "text/plain": [
              "['mass',\n",
              " '.',\n",
              " 'evid',\n",
              " '.',\n",
              " 'avalos',\n",
              " ',',\n",
              " '454',\n",
              " 'mass',\n",
              " '.',\n",
              " '</s>',\n",
              " 'that',\n",
              " '[',\n",
              " 's',\n",
              " ']',\n",
              " 'pecific',\n",
              " 'acts',\n",
              " 'of',\n",
              " 'duty',\n",
              " ',',\n",
              " 'hereby']"
            ]
          },
          "execution_count": 42,
          "metadata": {},
          "output_type": "execute_result"
        }
      ],
      "source": [
        "#bigram\n",
        "bigram.generate(20,text_seed=['<s>'],random_seed = 5)"
      ]
    },
    {
      "cell_type": "code",
      "execution_count": null,
      "metadata": {
        "colab": {
          "base_uri": "https://localhost:8080/"
        },
        "id": "KhpzwAg_B9Re",
        "outputId": "9fdd86ae-6e1c-4397-a3c3-0004b67e3d57"
      },
      "outputs": [
        {
          "data": {
            "text/plain": [
              "['to',\n",
              " 'attack',\n",
              " 'or',\n",
              " 'support',\n",
              " 'credibility',\n",
              " ')',\n",
              " '.',\n",
              " '</s>',\n",
              " '</s>',\n",
              " '</s>']"
            ]
          },
          "execution_count": 48,
          "metadata": {},
          "output_type": "execute_result"
        }
      ],
      "source": [
        "#trigram\n",
        "trigram.generate(10,text_seed=['<s>'],random_seed = 15)"
      ]
    },
    {
      "cell_type": "markdown",
      "source": [
        "# Calculated average perplexity of the trigram model"
      ],
      "metadata": {
        "id": "5xXVRHfEkIlf"
      }
    },
    {
      "cell_type": "code",
      "execution_count": null,
      "metadata": {
        "id": "_OXpCZbTDF2G"
      },
      "outputs": [],
      "source": [
        "def computePerplexity(model,testData):\n",
        "  \n",
        "  avg_preplexity = 0\n",
        "  total = 0\n",
        "  count = 0\n",
        "  for i in testData:\n",
        "    total += model.perplexity(i)\n",
        "    count += 1\n",
        "  avg_preplexity = total/count\n",
        "  return avg_preplexity\n",
        "  "
      ]
    },
    {
      "cell_type": "code",
      "execution_count": null,
      "metadata": {
        "colab": {
          "base_uri": "https://localhost:8080/"
        },
        "id": "04D9sME-DIBI",
        "outputId": "9afdb6ca-2e95-4548-8aa7-553c69c2f8d8"
      },
      "outputs": [
        {
          "name": "stdout",
          "output_type": "stream",
          "text": [
            "average middlesex perplexity 176.4060131042591\n"
          ]
        }
      ],
      "source": [
        "print('average middlesex perplexity', computePerplexity(trigram, preprocess_middlesex))"
      ]
    },
    {
      "cell_type": "markdown",
      "source": [
        "preprocess the text to get a better preplexity"
      ],
      "metadata": {
        "id": "Vcb-wGqAkToL"
      }
    },
    {
      "cell_type": "code",
      "execution_count": null,
      "metadata": {
        "id": "rgMAKw5_DdJ-"
      },
      "outputs": [],
      "source": [
        "from nltk.lm.preprocessing import pad_both_ends\n",
        "trigram_middlesex = []\n",
        "for i in range(len(preprocess_middlesex)):\n",
        "  \n",
        "  trigram_testing = list(ngrams(pad_both_ends(preprocess_middlesex[i], n=3), 3))\n",
        "  for item in trigram_testing:\n",
        "    trigram_middlesex.append(item)"
      ]
    },
    {
      "cell_type": "code",
      "execution_count": null,
      "metadata": {
        "colab": {
          "base_uri": "https://localhost:8080/"
        },
        "id": "Z-AAizLjDIEH",
        "outputId": "3358510b-76d8-4f2f-a0f0-03bf8d1880c7"
      },
      "outputs": [
        {
          "name": "stdout",
          "output_type": "stream",
          "text": [
            "average middlesex perplexity 180.34532747802714\n"
          ]
        }
      ],
      "source": [
        "print('average middlesex perplexity', computePerplexity(trigram, trigram_middlesex))"
      ]
    }
  ],
  "metadata": {
    "colab": {
      "collapsed_sections": [],
      "provenance": []
    },
    "kernelspec": {
      "display_name": "Python 3",
      "language": "python",
      "name": "python3"
    },
    "language_info": {
      "codemirror_mode": {
        "name": "ipython",
        "version": 3
      },
      "file_extension": ".py",
      "mimetype": "text/x-python",
      "name": "python",
      "nbconvert_exporter": "python",
      "pygments_lexer": "ipython3",
      "version": "3.8.8"
    }
  },
  "nbformat": 4,
  "nbformat_minor": 0
}